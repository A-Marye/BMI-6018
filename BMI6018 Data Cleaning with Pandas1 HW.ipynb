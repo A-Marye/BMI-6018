{
 "cells": [
  {
   "cell_type": "code",
   "execution_count": 9,
   "id": "72ff554d",
   "metadata": {},
   "outputs": [],
   "source": [
    "# Libraries\n",
    "import pandas as pd\n",
    "import matplotlib.pyplot as plt\n",
    "import numpy as np"
   ]
  },
  {
   "cell_type": "code",
   "execution_count": 10,
   "id": "69330662",
   "metadata": {},
   "outputs": [],
   "source": [
    "# Importing Data\n",
    "flights_data = pd.read_csv('flights.csv')\n",
    "flights_data.head(10)\n",
    "weather_data_pd = pd.read_csv('weather.csv')\n",
    "weather_data_np = weather_data_pd.to_numpy()"
   ]
  },
  {
   "cell_type": "markdown",
   "id": "fab46c13",
   "metadata": {},
   "source": [
    "### Pandas Data Filtering/Sorting Question Answering\n",
    "Use flights_data"
   ]
  },
  {
   "cell_type": "code",
   "execution_count": 16,
   "id": "86c0d2f6",
   "metadata": {},
   "outputs": [
    {
     "data": {
      "text/html": [
       "<div>\n",
       "<style scoped>\n",
       "    .dataframe tbody tr th:only-of-type {\n",
       "        vertical-align: middle;\n",
       "    }\n",
       "\n",
       "    .dataframe tbody tr th {\n",
       "        vertical-align: top;\n",
       "    }\n",
       "\n",
       "    .dataframe thead th {\n",
       "        text-align: right;\n",
       "    }\n",
       "</style>\n",
       "<table border=\"1\" class=\"dataframe\">\n",
       "  <thead>\n",
       "    <tr style=\"text-align: right;\">\n",
       "      <th></th>\n",
       "      <th>Unnamed: 0</th>\n",
       "      <th>year</th>\n",
       "      <th>month</th>\n",
       "      <th>day</th>\n",
       "      <th>dep_time</th>\n",
       "      <th>dep_delay</th>\n",
       "      <th>arr_time</th>\n",
       "      <th>arr_delay</th>\n",
       "      <th>carrier</th>\n",
       "      <th>tailnum</th>\n",
       "      <th>flight</th>\n",
       "      <th>origin</th>\n",
       "      <th>dest</th>\n",
       "      <th>air_time</th>\n",
       "      <th>distance</th>\n",
       "      <th>hour</th>\n",
       "      <th>minute</th>\n",
       "    </tr>\n",
       "  </thead>\n",
       "  <tbody>\n",
       "    <tr>\n",
       "      <th>0</th>\n",
       "      <td>1</td>\n",
       "      <td>2013</td>\n",
       "      <td>1</td>\n",
       "      <td>1</td>\n",
       "      <td>517.0</td>\n",
       "      <td>2.0</td>\n",
       "      <td>830.0</td>\n",
       "      <td>11.0</td>\n",
       "      <td>UA</td>\n",
       "      <td>N14228</td>\n",
       "      <td>1545</td>\n",
       "      <td>EWR</td>\n",
       "      <td>IAH</td>\n",
       "      <td>227.0</td>\n",
       "      <td>1400</td>\n",
       "      <td>5.0</td>\n",
       "      <td>17.0</td>\n",
       "    </tr>\n",
       "    <tr>\n",
       "      <th>1</th>\n",
       "      <td>2</td>\n",
       "      <td>2013</td>\n",
       "      <td>1</td>\n",
       "      <td>1</td>\n",
       "      <td>533.0</td>\n",
       "      <td>4.0</td>\n",
       "      <td>850.0</td>\n",
       "      <td>20.0</td>\n",
       "      <td>UA</td>\n",
       "      <td>N24211</td>\n",
       "      <td>1714</td>\n",
       "      <td>LGA</td>\n",
       "      <td>IAH</td>\n",
       "      <td>227.0</td>\n",
       "      <td>1416</td>\n",
       "      <td>5.0</td>\n",
       "      <td>33.0</td>\n",
       "    </tr>\n",
       "    <tr>\n",
       "      <th>2</th>\n",
       "      <td>3</td>\n",
       "      <td>2013</td>\n",
       "      <td>1</td>\n",
       "      <td>1</td>\n",
       "      <td>542.0</td>\n",
       "      <td>2.0</td>\n",
       "      <td>923.0</td>\n",
       "      <td>33.0</td>\n",
       "      <td>AA</td>\n",
       "      <td>N619AA</td>\n",
       "      <td>1141</td>\n",
       "      <td>JFK</td>\n",
       "      <td>MIA</td>\n",
       "      <td>160.0</td>\n",
       "      <td>1089</td>\n",
       "      <td>5.0</td>\n",
       "      <td>42.0</td>\n",
       "    </tr>\n",
       "    <tr>\n",
       "      <th>3</th>\n",
       "      <td>4</td>\n",
       "      <td>2013</td>\n",
       "      <td>1</td>\n",
       "      <td>1</td>\n",
       "      <td>544.0</td>\n",
       "      <td>-1.0</td>\n",
       "      <td>1004.0</td>\n",
       "      <td>-18.0</td>\n",
       "      <td>B6</td>\n",
       "      <td>N804JB</td>\n",
       "      <td>725</td>\n",
       "      <td>JFK</td>\n",
       "      <td>BQN</td>\n",
       "      <td>183.0</td>\n",
       "      <td>1576</td>\n",
       "      <td>5.0</td>\n",
       "      <td>44.0</td>\n",
       "    </tr>\n",
       "    <tr>\n",
       "      <th>4</th>\n",
       "      <td>5</td>\n",
       "      <td>2013</td>\n",
       "      <td>1</td>\n",
       "      <td>1</td>\n",
       "      <td>554.0</td>\n",
       "      <td>-6.0</td>\n",
       "      <td>812.0</td>\n",
       "      <td>-25.0</td>\n",
       "      <td>DL</td>\n",
       "      <td>N668DN</td>\n",
       "      <td>461</td>\n",
       "      <td>LGA</td>\n",
       "      <td>ATL</td>\n",
       "      <td>116.0</td>\n",
       "      <td>762</td>\n",
       "      <td>5.0</td>\n",
       "      <td>54.0</td>\n",
       "    </tr>\n",
       "  </tbody>\n",
       "</table>\n",
       "</div>"
      ],
      "text/plain": [
       "   Unnamed: 0  year  month  day  dep_time  dep_delay  arr_time  arr_delay  \\\n",
       "0           1  2013      1    1     517.0        2.0     830.0       11.0   \n",
       "1           2  2013      1    1     533.0        4.0     850.0       20.0   \n",
       "2           3  2013      1    1     542.0        2.0     923.0       33.0   \n",
       "3           4  2013      1    1     544.0       -1.0    1004.0      -18.0   \n",
       "4           5  2013      1    1     554.0       -6.0     812.0      -25.0   \n",
       "\n",
       "  carrier tailnum  flight origin dest  air_time  distance  hour  minute  \n",
       "0      UA  N14228    1545    EWR  IAH     227.0      1400   5.0    17.0  \n",
       "1      UA  N24211    1714    LGA  IAH     227.0      1416   5.0    33.0  \n",
       "2      AA  N619AA    1141    JFK  MIA     160.0      1089   5.0    42.0  \n",
       "3      B6  N804JB     725    JFK  BQN     183.0      1576   5.0    44.0  \n",
       "4      DL  N668DN     461    LGA  ATL     116.0       762   5.0    54.0  "
      ]
     },
     "execution_count": 16,
     "metadata": {},
     "output_type": "execute_result"
    }
   ],
   "source": [
    "flights_data.head()"
   ]
  },
  {
   "cell_type": "markdown",
   "id": "c32285f0",
   "metadata": {},
   "source": [
    "Question 1: How many flights were there from JFK to SLC? Int q_1 "
   ]
  },
  {
   "cell_type": "code",
   "execution_count": 21,
   "id": "f54b2c96",
   "metadata": {},
   "outputs": [
    {
     "name": "stdout",
     "output_type": "stream",
     "text": [
      "q_1 =  2113 <class 'int'>\n"
     ]
    }
   ],
   "source": [
    "filtered = flights_data[(flights_data['origin'] == 'JFK') & (flights_data['dest'] == 'SLC')]\n",
    "q_1 = len(filtered)\n",
    "print(\"q_1 = \", q_1, type(q_1))"
   ]
  },
  {
   "cell_type": "markdown",
   "id": "5d645fe7",
   "metadata": {},
   "source": [
    "Question 2: How many airlines fly to SLC? Should be int q_2 "
   ]
  },
  {
   "cell_type": "code",
   "execution_count": 22,
   "id": "d3e0fe9f",
   "metadata": {},
   "outputs": [
    {
     "name": "stdout",
     "output_type": "stream",
     "text": [
      "q_2 =  2 <class 'int'>\n"
     ]
    }
   ],
   "source": [
    "filtered = flights_data[flights_data['dest'] == 'SLC']\n",
    "q_2 = filtered['carrier'].nunique()\n",
    "print(\"q_2 = \", q_2, type(q_2))"
   ]
  },
  {
   "cell_type": "markdown",
   "id": "7855b88d",
   "metadata": {},
   "source": [
    "Question 3: What is the average arrival delay for flights to RDU? float q_3"
   ]
  },
  {
   "cell_type": "code",
   "execution_count": 23,
   "id": "c6ac68f7",
   "metadata": {},
   "outputs": [
    {
     "name": "stdout",
     "output_type": "stream",
     "text": [
      "q_3 =  10.052380952380952 <class 'numpy.float64'>\n"
     ]
    }
   ],
   "source": [
    "filtered = flights_data[flights_data['dest'] == 'RDU']\n",
    "q_3 = filtered['arr_delay'].mean()\n",
    "print(\"q_3 = \", q_3, type(q_3))"
   ]
  },
  {
   "cell_type": "markdown",
   "id": "6b782fe8",
   "metadata": {},
   "source": [
    "Question 4: What proportion of flights to SEA come from the two NYC airports (LGA and JFK)?  float q_4"
   ]
  },
  {
   "cell_type": "code",
   "execution_count": 25,
   "id": "27dd5edb",
   "metadata": {},
   "outputs": [
    {
     "name": "stdout",
     "output_type": "stream",
     "text": [
      "q_4 =  0.006211844074399601 <class 'float'>\n"
     ]
    }
   ],
   "source": [
    "filtered = flights_data[(flights_data['origin'].isin(['LGA', 'JFK'])) & (flights_data['dest'] == 'SEA')]\n",
    "filtered_total = flights_data['dest'] == 'SEA'\n",
    "\n",
    "q_4 = (len(filtered))/(len(filtered_total))\n",
    "print(\"q_4 = \", q_4, type(q_4))"
   ]
  },
  {
   "cell_type": "markdown",
   "id": "578212c6",
   "metadata": {},
   "source": [
    "Question 5:  Which date has the largest average depature delay? Pd slice with date and float please make date a column. Preferred format is 2013/1/1 (y/m/d) q_5"
   ]
  },
  {
   "cell_type": "code",
   "execution_count": 26,
   "id": "ef13995c",
   "metadata": {},
   "outputs": [
    {
     "name": "stdout",
     "output_type": "stream",
     "text": [
      "q_5 =  2013/03/08 <class 'str'>\n"
     ]
    }
   ],
   "source": [
    "flights_data['Date'] = pd.to_datetime(flights_data[['year', 'month', 'day']])\n",
    "flights_data['Date'] = flights_data['Date'].dt.strftime('%Y/%m/%d')\n",
    "q_5 = flights_data.groupby('Date')['dep_delay'].mean().idxmax()\n",
    "print(\"q_5 = \", q_5, type(q_5))"
   ]
  },
  {
   "cell_type": "markdown",
   "id": "50eef4e6",
   "metadata": {},
   "source": [
    "Question 6: Which date has the largest average arrival delay? pd slice with date and float q_6"
   ]
  },
  {
   "cell_type": "code",
   "execution_count": 29,
   "id": "90ba9e66",
   "metadata": {},
   "outputs": [
    {
     "name": "stdout",
     "output_type": "stream",
     "text": [
      "q_6 =  2013/03/08 <class 'str'>\n"
     ]
    }
   ],
   "source": [
    "q_6 = flights_data.groupby('Date')['arr_delay'].mean().idxmax()\n",
    "print(\"q_6 = \", q_6, type(q_6))"
   ]
  },
  {
   "cell_type": "markdown",
   "id": "9d51d28a",
   "metadata": {},
   "source": [
    "Question 7: Which flight departing LGA or JFK in 2013 flew the fastest? pd slice with tailnumber and speed (speed = distance/airtime) q_7"
   ]
  },
  {
   "cell_type": "code",
   "execution_count": 37,
   "id": "0083551e",
   "metadata": {},
   "outputs": [
    {
     "name": "stdout",
     "output_type": "stream",
     "text": [
      "q_7 =  1499 <class 'numpy.int64'>\n"
     ]
    }
   ],
   "source": [
    "flights_data[\"speed\"] = flights_data[\"distance\"]/flights_data[\"air_time\"]\n",
    "filtered = flights_data[flights_data['origin'].isin(['LGA', 'JFK'])]\n",
    "q_7 = filtered.loc[filtered['speed'].idxmax(), 'flight']\n",
    "print(\"q_7 = \", q_7, type(q_7))"
   ]
  },
  {
   "cell_type": "markdown",
   "id": "0b11a6bb",
   "metadata": {},
   "source": [
    "Question 8: Replace all nans in the weather pd dataframe with 0s. Pd with no nans q_8"
   ]
  },
  {
   "cell_type": "code",
   "execution_count": 38,
   "id": "bb894544",
   "metadata": {},
   "outputs": [
    {
     "name": "stdout",
     "output_type": "stream",
     "text": [
      "q_8 =     Unnamed: 0 origin  year  month  day  hour   temp   dewp  humid  wind_dir  \\\n",
      "0           1    EWR  2013    1.0  1.0   0.0  37.04  21.92  53.97     230.0   \n",
      "1           2    EWR  2013    1.0  1.0   1.0  37.04  21.92  53.97     230.0   \n",
      "2           3    EWR  2013    1.0  1.0   2.0  37.94  21.92  52.09     230.0   \n",
      "3           4    EWR  2013    1.0  1.0   3.0  37.94  23.00  54.51     230.0   \n",
      "4           5    EWR  2013    1.0  1.0   4.0  37.94  24.08  57.04     240.0   \n",
      "5           6    EWR  2013    1.0  1.0   6.0  39.02  26.06  59.37     270.0   \n",
      "6           7    EWR  2013    1.0  1.0   7.0  39.02  26.96  61.63     250.0   \n",
      "7           8    EWR  2013    1.0  1.0   8.0  39.02  28.04  64.43     240.0   \n",
      "8           9    EWR  2013    1.0  1.0   9.0  39.92  28.04  62.21     250.0   \n",
      "9          10    EWR  2013    1.0  1.0  10.0  39.02  28.04  64.43     260.0   \n",
      "\n",
      "   wind_speed  wind_gust  precip  pressure  visib  \n",
      "0    10.35702  11.918651     0.0    1013.9   10.0  \n",
      "1    13.80936  15.891535     0.0    1013.0   10.0  \n",
      "2    12.65858  14.567241     0.0    1012.6   10.0  \n",
      "3    13.80936  15.891535     0.0    1012.7   10.0  \n",
      "4    14.96014  17.215830     0.0    1012.8   10.0  \n",
      "5    10.35702  11.918651     0.0    1012.0   10.0  \n",
      "6     8.05546   9.270062     0.0    1012.3   10.0  \n",
      "7    11.50780  13.242946     0.0    1012.5   10.0  \n",
      "8    12.65858  14.567241     0.0    1012.2   10.0  \n",
      "9    12.65858  14.567241     0.0    1011.9   10.0   <class 'pandas.core.frame.DataFrame'>\n"
     ]
    }
   ],
   "source": [
    "q_8 = weather_data_pd.fillna(0)\n",
    "print(\"q_8 = \", q_8.head(10), type(q_8))"
   ]
  },
  {
   "cell_type": "markdown",
   "id": "5bef72cc",
   "metadata": {},
   "source": [
    "### Numpy Data Filtering/Sorting Question Answering\n",
    "Use weather_data_np"
   ]
  },
  {
   "cell_type": "code",
   "execution_count": 40,
   "id": "4f7763f3",
   "metadata": {},
   "outputs": [
    {
     "data": {
      "text/plain": [
       "array([[1, 'EWR', 2013, ..., 0.0, 1013.9, 10.0],\n",
       "       [2, 'EWR', 2013, ..., 0.0, 1013.0, 10.0],\n",
       "       [3, 'EWR', 2013, ..., 0.0, 1012.6, 10.0],\n",
       "       ...,\n",
       "       [8717, 'JFK', 2013, ..., 0.0, 1008.5, 10.0],\n",
       "       [8718, 'JFK', 2013, ..., 0.0, 1023.9, 10.0],\n",
       "       [8719, 'LGA', 2013, ..., 0.0, 1011.9, 10.0]], dtype=object)"
      ]
     },
     "execution_count": 40,
     "metadata": {},
     "output_type": "execute_result"
    }
   ],
   "source": [
    "weather_data_np"
   ]
  },
  {
   "cell_type": "markdown",
   "id": "6014bb0b",
   "metadata": {},
   "source": [
    "Question 9: How many observations were made in Feburary? Int q_9 "
   ]
  },
  {
   "cell_type": "code",
   "execution_count": 42,
   "id": "5b2b045a",
   "metadata": {},
   "outputs": [
    {
     "name": "stdout",
     "output_type": "stream",
     "text": [
      "q_9 =  288 <class 'numpy.int32'>\n"
     ]
    }
   ],
   "source": [
    "q_9 = np.sum(weather_data_np[:,4] == 2.0)\n",
    "print(\"q_9 = \", q_9, type(q_9))"
   ]
  },
  {
   "cell_type": "markdown",
   "id": "9bc881de",
   "metadata": {},
   "source": [
    "Question 10: What was the mean for humidity in February? Float q_10"
   ]
  },
  {
   "cell_type": "code",
   "execution_count": 43,
   "id": "0986a02b",
   "metadata": {},
   "outputs": [
    {
     "name": "stdout",
     "output_type": "stream",
     "text": [
      "q_10 =  60.662256944444444 <class 'numpy.float64'>\n"
     ]
    }
   ],
   "source": [
    "feb = weather_data_np[weather_data_np[:,4] == 2.0, 8]\n",
    "q_10 = np.mean(feb)\n",
    "print(\"q_10 = \", q_10, type(q_10))"
   ]
  },
  {
   "cell_type": "markdown",
   "id": "550e306b",
   "metadata": {},
   "source": [
    "Question 11: What was the std for humidity in February? Float q_11"
   ]
  },
  {
   "cell_type": "code",
   "execution_count": 44,
   "id": "a11b96ea",
   "metadata": {},
   "outputs": [
    {
     "name": "stdout",
     "output_type": "stream",
     "text": [
      "q_11 =  18.91972374645869 <class 'numpy.float64'>\n"
     ]
    }
   ],
   "source": [
    "q_11 = np.std(feb)\n",
    "print(\"q_11 = \", q_11, type(q_11))"
   ]
  },
  {
   "cell_type": "code",
   "execution_count": null,
   "id": "2490f79b",
   "metadata": {},
   "outputs": [],
   "source": []
  }
 ],
 "metadata": {
  "kernelspec": {
   "display_name": "Python 3 (ipykernel)",
   "language": "python",
   "name": "python3"
  },
  "language_info": {
   "codemirror_mode": {
    "name": "ipython",
    "version": 3
   },
   "file_extension": ".py",
   "mimetype": "text/x-python",
   "name": "python",
   "nbconvert_exporter": "python",
   "pygments_lexer": "ipython3",
   "version": "3.10.9"
  }
 },
 "nbformat": 4,
 "nbformat_minor": 5
}
