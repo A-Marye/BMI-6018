{
 "cells": [
  {
   "cell_type": "markdown",
   "id": "66b9d2fe",
   "metadata": {},
   "source": [
    "## Question 1"
   ]
  },
  {
   "cell_type": "code",
   "execution_count": 7,
   "id": "ea9c595b",
   "metadata": {},
   "outputs": [
    {
     "data": {
      "text/plain": [
       "2"
      ]
     },
     "execution_count": 7,
     "metadata": {},
     "output_type": "execute_result"
    }
   ],
   "source": [
    "# Define booleans\n",
    "a = bool(True)\n",
    "b = bool(False)\n",
    "\n",
    "# Get answer\n",
    "a + a - b"
   ]
  },
  {
   "cell_type": "markdown",
   "id": "34309cde",
   "metadata": {},
   "source": [
    "## Question 2"
   ]
  },
  {
   "cell_type": "code",
   "execution_count": 10,
   "id": "6dec3970",
   "metadata": {},
   "outputs": [
    {
     "data": {
      "text/plain": [
       "1"
      ]
     },
     "execution_count": 10,
     "metadata": {},
     "output_type": "execute_result"
    }
   ],
   "source": [
    "logical_tracker = True # define original variable\n",
    "logical_tracker = logical_tracker & logical_tracker # re-define with AND \n",
    "logical_tracker = logical_tracker|(logical_tracker-logical_tracker) # re-define with OR and NOT\n",
    "logical_tracker # Get answer"
   ]
  },
  {
   "cell_type": "markdown",
   "id": "bf4e18cd",
   "metadata": {},
   "source": [
    "## Question 5"
   ]
  },
  {
   "cell_type": "code",
   "execution_count": 11,
   "id": "cf559a51",
   "metadata": {},
   "outputs": [
    {
     "data": {
      "text/plain": [
       "' '"
      ]
     },
     "execution_count": 11,
     "metadata": {},
     "output_type": "execute_result"
    }
   ],
   "source": [
    "string = \"E. Coli\" # Define string\n",
    "\n",
    "string[2] # Get second character in string (base zero)"
   ]
  },
  {
   "cell_type": "markdown",
   "id": "7808c4de",
   "metadata": {},
   "source": [
    "## Question 6"
   ]
  },
  {
   "cell_type": "code",
   "execution_count": 12,
   "id": "38ecd24d",
   "metadata": {},
   "outputs": [
    {
     "ename": "TypeError",
     "evalue": "'str' object does not support item assignment",
     "output_type": "error",
     "traceback": [
      "\u001b[1;31m---------------------------------------------------------------------------\u001b[0m",
      "\u001b[1;31mTypeError\u001b[0m                                 Traceback (most recent call last)",
      "Cell \u001b[1;32mIn[12], line 2\u001b[0m\n\u001b[0;32m      1\u001b[0m string \u001b[38;5;241m=\u001b[39m \u001b[38;5;124m\"\u001b[39m\u001b[38;5;124mI Bove python\u001b[39m\u001b[38;5;124m\"\u001b[39m\n\u001b[1;32m----> 2\u001b[0m string[\u001b[38;5;241m2\u001b[39m]\u001b[38;5;241m=\u001b[39m\u001b[38;5;124m\"\u001b[39m\u001b[38;5;124mL\u001b[39m\u001b[38;5;124m\"\u001b[39m\n\u001b[0;32m      3\u001b[0m string\n",
      "\u001b[1;31mTypeError\u001b[0m: 'str' object does not support item assignment"
     ]
    }
   ],
   "source": [
    "string = \"I Bove python\" # Define original string\n",
    "string[2]=\"L\" # Try to replace B with L\n",
    "string # See what happens"
   ]
  },
  {
   "cell_type": "markdown",
   "id": "ad2579c3",
   "metadata": {},
   "source": [
    "## Question 7"
   ]
  },
  {
   "cell_type": "code",
   "execution_count": 1,
   "id": "85f35570",
   "metadata": {},
   "outputs": [
    {
     "name": "stdout",
     "output_type": "stream",
     "text": [
      "<class 'int'>\n"
     ]
    }
   ],
   "source": [
    "Medication = 5 # Define variable\n",
    "print(type(Medication)) # print variable type "
   ]
  },
  {
   "cell_type": "markdown",
   "id": "969d6ace",
   "metadata": {},
   "source": [
    "## Question 8"
   ]
  },
  {
   "cell_type": "code",
   "execution_count": 2,
   "id": "6bab75ed",
   "metadata": {},
   "outputs": [
    {
     "name": "stdout",
     "output_type": "stream",
     "text": [
      "24.034609838166958\n"
     ]
    }
   ],
   "source": [
    "# Define variables\n",
    "weight = 60.0\n",
    "height = 1.58\n",
    "\n",
    "# Create function for calculating BMI\n",
    "def calculate_bmi(weight,height):\n",
    "    bmi = weight/(height**2)\n",
    "    print(bmi)\n",
    "\n",
    "# Calculate BMI\n",
    "calculate_bmi(weight, height)"
   ]
  },
  {
   "cell_type": "markdown",
   "id": "a27e8659",
   "metadata": {},
   "source": [
    "## Question 9"
   ]
  },
  {
   "cell_type": "code",
   "execution_count": 14,
   "id": "7b3d8158",
   "metadata": {},
   "outputs": [
    {
     "name": "stdout",
     "output_type": "stream",
     "text": [
      "88 16\n"
     ]
    }
   ],
   "source": [
    "string = \"8\" + \"8\" # String example\n",
    "integer = 8 + 8 # Integer example\n",
    "\n",
    "print(string, integer)"
   ]
  },
  {
   "cell_type": "markdown",
   "id": "23b5983b",
   "metadata": {},
   "source": [
    "## Question 10"
   ]
  },
  {
   "cell_type": "code",
   "execution_count": 15,
   "id": "000bd018",
   "metadata": {},
   "outputs": [
    {
     "data": {
      "text/plain": [
       "'73'"
      ]
     },
     "execution_count": 15,
     "metadata": {},
     "output_type": "execute_result"
    }
   ],
   "source": [
    "\"7\" + \"3\" # Concatenate strings "
   ]
  }
 ],
 "metadata": {
  "kernelspec": {
   "display_name": "Python 3 (ipykernel)",
   "language": "python",
   "name": "python3"
  },
  "language_info": {
   "codemirror_mode": {
    "name": "ipython",
    "version": 3
   },
   "file_extension": ".py",
   "mimetype": "text/x-python",
   "name": "python",
   "nbconvert_exporter": "python",
   "pygments_lexer": "ipython3",
   "version": "3.10.9"
  }
 },
 "nbformat": 4,
 "nbformat_minor": 5
}
